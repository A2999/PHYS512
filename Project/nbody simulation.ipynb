{
 "cells": [
  {
   "cell_type": "markdown",
   "id": "2ba6b155",
   "metadata": {},
   "source": [
    "# Making a 2D N-Body Simulation"
   ]
  },
  {
   "cell_type": "markdown",
   "id": "cb165681",
   "metadata": {},
   "source": [
    "##### PHYS 512 Final Project"
   ]
  },
  {
   "cell_type": "code",
   "execution_count": 1,
   "id": "430252ca",
   "metadata": {},
   "outputs": [],
   "source": [
    "#Importing Libraries\n",
    "import numpy as np\n",
    "import matplotlib.pyplot as plt\n",
    "import cv2\n",
    "import os\n",
    "import imageio\n",
    "#%matplotlib qt"
   ]
  },
  {
   "cell_type": "markdown",
   "id": "71a57ccc",
   "metadata": {},
   "source": [
    "#### Function to create the potential of a point charge"
   ]
  },
  {
   "cell_type": "code",
   "execution_count": 4,
   "id": "7dae929f",
   "metadata": {},
   "outputs": [],
   "source": [
    "def point_charge_V(g, soft_r, b=5):\n",
    "    x, y = np.meshgrid(np.linspace(-b,b, g+1), np.linspace(-b,b, g+1)) #2d meshgrid\n",
    "    r = np.sqrt(x**2+y**2) #defining r (distance from particle)\n",
    "    r[r<soft_r]=soft_r #softening\n",
    "    V = 1/r #gravitational potential\n",
    "    V=V[:-1,:-1] #getting rid of the extra gridcells\n",
    "    return V"
   ]
  },
  {
   "cell_type": "markdown",
   "id": "ec34d1a5",
   "metadata": {},
   "source": [
    "The above function creates a softened potential for a point charge. The softening is done by setting a limit on the minimum distance \"r\", which is called \"soft r\". What this does essentially is that if a distance is less than the soft r, the potential at that point is equal to the potential at soft r. This makes it so the 1/r function doesn't go off to infinity as r approaches 0, but rather plateaus.\n",
    "\n",
    "I decided to create the density function with 1 more gridcell than what will be input in the nbody class. This is because I use even numbers for the number of gridcells, but if you create a point charge potential with an even number of gridcells, you don't obtain one central cell with maximum potential from which potential decreases with distance. Instead you get a 2x2 grid of max potential. This is a problem, because when the class will convolve the even point potential with the 2d density histogram, it will set one of the corners of the 2x2 cells on the cell for said point. When the gradient is then taken, the point will get affected by it's own potential, causing all the points to drift.\n",
    "\n",
    "I could also just use an odd number of gridcells, but this was causing me issues (I think because of the fft and fftshift), so this was a solution that worked for me.\n",
    "\n",
    "The difference between an even and odd number of gridcells for the point potential can be seen below:\n",
    "\n",
    "<div>\n",
    "Even:\n",
    "<img src=\"images/other/even_point_V.png\" width=\"500\">\n",
    "Odd:\n",
    "<img src=\"images/other/odd_point_V.png\" width=\"500\">\n",
    "</div>"
   ]
  },
  {
   "cell_type": "markdown",
   "id": "04a2c09f",
   "metadata": {},
   "source": [
    "#### The n-body class itself"
   ]
  },
  {
   "cell_type": "code",
   "execution_count": 5,
   "id": "6b404c8a",
   "metadata": {},
   "outputs": [],
   "source": [
    "class nbody:\n",
    "    def __init__(self, n, gridcells, soft_r, x=False, m=False, v=False, periodic=True):\n",
    "        self.n = n\n",
    "        if x is False: #if no array for x is given, then initial positions are random\n",
    "                        #numbers between 0 and 1 in x and y\n",
    "            self.x = np.random.rand(n,2)\n",
    "        else: #Making sure if you input an array for x, it has the proper shape\n",
    "            if x.shape[1]!=2:\n",
    "                print('Position must be a Nx2 array')\n",
    "                assert(1==0)\n",
    "            elif int(n)!=len(x):\n",
    "                print(\"Number of particles doesn't match number of initial positions.\")\n",
    "                assert(1==0)\n",
    "            self.x = x\n",
    "        if m is False: #if no array for m is given, then all masses=1\n",
    "            self.m = np.ones(n)\n",
    "        else: #Making sure if you input an array for m, it has the proper shape\n",
    "            if int(n)!=len(m):\n",
    "                print(\"Number of particles doesn't match number of initial masses.\")\n",
    "                assert(1==0)\n",
    "            self.m = m\n",
    "        self.mstack = np.vstack((self.m,self.m)).T #used for energy calculation later\n",
    "        if v is False: #if no array for v is given, all initial velocites = 0\n",
    "            self.v = np.zeros([n,2])\n",
    "        else: #Making sure if you input an array for v, it has the proper shape\n",
    "            if v.shape[1]!=2:\n",
    "                print('Position must be a Nx2 array')\n",
    "                assert(1==0)\n",
    "            elif len(x)!=len(v):\n",
    "                print(\"Number of initial positions doesn't match number of initial velocities.\")\n",
    "                assert(1==0)\n",
    "            self.v = v\n",
    "        self.g = gridcells #number of gridcells per side\n",
    "        self.soft = soft_r #softening radius\n",
    "        self.periodic = periodic #If periodic or non-periodic bc\n",
    "        self.pot = np.zeros([self.g,self.g]) #initialized for plotting purposes\n",
    "        if periodic is True: #potential and fft of potential of point charge\n",
    "            self.point = point_charge_V(self.g, self.soft)\n",
    "            self.pointft = np.fft.rfft2(self.point)\n",
    "        else: #potential and fft of potential of padded point charge\n",
    "            self.point = point_charge_V(2*self.g, self.soft)            \n",
    "            self.pointft = np.fft.rfft2(self.point)\n",
    "            \n",
    "        self.lostK = 0 #initialized for energy tracking with\n",
    "        self.lostU = 0 #non-periodic boundary conditions\n",
    "            \n",
    "    def density(self, rk4=False):\n",
    "        if rk4 is False: #Histogram of positions\n",
    "            density = np.histogram2d(self.x[:,0],self.x[:,1], bins=self.g, weights=self.m, range=[[0,1],[0,1]])[0]\n",
    "        else: #Histogram of input values used in rk4 step\n",
    "            density = np.histogram2d(rk4[:,0],rk4[:,1], bins=self.g, weights=self.m, range=[[0,1],[0,1]])[0]\n",
    "\n",
    "        if self.periodic is True:\n",
    "            self.p = density\n",
    "        else: #if non-periodic bc, need to pad the density with 0s\n",
    "            self.p = np.zeros([self.g*2,self.g*2])\n",
    "            self.p[self.g//2:3*self.g//2, self.g//2:3*self.g//2] = density\n",
    "        return self.p\n",
    "    \n",
    "    def potential(self, rk4=False):\n",
    "        if rk4 is False: #calling the density histogram\n",
    "            density = self.density()\n",
    "        else:\n",
    "            density = self.density(rk4)\n",
    "        \n",
    "        densityft = np.fft.rfft2(density) #fft of density\n",
    "        \n",
    "        if self.periodic is True: #convolution of point potential and density histogram\n",
    "            self.pot = np.fft.fftshift(np.fft.irfft2(densityft*self.pointft))\n",
    "        else: #if non-periodic, padded zone needs to be cut out\n",
    "            big = np.fft.fftshift(np.fft.irfft2(densityft*self.pointft))\n",
    "            self.pot = big[self.g//2:3*self.g//2, self.g//2:3*self.g//2]\n",
    "            \n",
    "        return self.pot\n",
    "    \n",
    "    def force(self, rk4=False):\n",
    "        if rk4 is False: #calling the potential of the system\n",
    "            V = self.potential()\n",
    "        else:\n",
    "            V = self.potential(rk4)\n",
    "        fx, fy = np.gradient(V) #gradient of potential in x & y\n",
    "        dx = 1/self.g #length of each gridcell in x\n",
    "        dy = 1/self.g #length of each gridcell in y\n",
    "        self.f = np.empty([len(self.x),2]) #initializing force array\n",
    "        for i in range(len(self.x)): #finding index in grid-space of each particle\n",
    "            indx, indy = int(self.x[i,0]/dx), int(self.x[i,1]/dy)\n",
    "            if indx == self.g: #if the particle is on the upper\n",
    "                indx=indx-1    #boundary in x or y, bin it into\n",
    "            if indy == self.g: #the gridcell before it\n",
    "                indy=indy-1\n",
    "            self.f[i] = np.array([fx[indx,indy],fy[indx,indy]])\n",
    "            #force on each particle in x and y is gradient of potential in x &\n",
    "            #y of the gridcell that the point falls into\n",
    "        return self.f\n",
    "    \n",
    "    def leapfrog(self, dt):\n",
    "        self.x=self.x+dt*self.v #update position\n",
    "        if self.periodic is True: #in periodic bc, if the position exits the \n",
    "            for i in self.x:      #range, the particle simply re-enters the\n",
    "                if i[0]>1:        #range on the opposite side\n",
    "                    i[0]=i[0]-1\n",
    "                if i[0]<0:\n",
    "                    i[0]=i[0]+1\n",
    "                if i[1]>1:\n",
    "                    i[1]=i[1]-1\n",
    "                if i[1]<0:\n",
    "                    i[1]=i[1]+1\n",
    "        else: #in non-periodic, points that leave the range are deleted from the system\n",
    "            problems = [] #and the energy they had before leaving is kept in memory\n",
    "            for i in range(len(self.x)): #to calculate the total energy of the system\n",
    "                if self.x[i,0]>1 or self.x[i,1]>1 or self.x[i,0]<0 or self.x[i,1]<0:\n",
    "                    problems.append(i)\n",
    "            if len(problems)!=0:\n",
    "                for i in problems:\n",
    "                    self.lostK = self.lostK + np.sum(0.5*self.mstack[i]*self.v[i]**2)\n",
    "                    self.lostU = self.lostU + np.sum(self.pot)/self.n\n",
    "                self.x = np.delete(self.x, problems, 0)\n",
    "                self.v = np.delete(self.v, problems, 0)\n",
    "                self.m = np.delete(self.m, problems)\n",
    "                self.mstack = np.delete(self.mstack, problems, 0)\n",
    "        self.v=self.v+self.force()*dt #update velocity\n",
    "        \n",
    "    def get_derivs(self,xx): #used for rk4 step\n",
    "        nn=xx.shape[0]//2\n",
    "        x=xx[:nn,:] #break up xx back into position\n",
    "        v=xx[nn:,:] #and velocity\n",
    "        f=self.force(x) #calculate force on position\n",
    "        return np.vstack([v,f]) #return verlocity and force\n",
    "    \n",
    "    def rk4(self, dt):\n",
    "        xv = np.vstack([self.x,self.v]) #stack postition & velocity\n",
    "        k1 = self.get_derivs(xv) #rk4 on position and velocity\n",
    "        k2 = self.get_derivs(xv+k1*dt/2)\n",
    "        k3 = self.get_derivs(xv+k2*dt/2)\n",
    "        k4 = self.get_derivs(xv+k3*dt)\n",
    "        \n",
    "        tot=(k1+2*k2+2*k3+k4)/6\n",
    "        v = tot[:len(self.x),:] #break up tot back into velocity\n",
    "        f=tot[len(self.x):,:] #and force\n",
    "        \n",
    "        self.x = self.x + v*dt #update position\n",
    "        if self.periodic is True: #same as in leapfrog for periodic bc\n",
    "            for i in self.x:\n",
    "                if i[0]>1:\n",
    "                    i[0]=i[0]-1\n",
    "                if i[0]<0:\n",
    "                    i[0]=i[0]+1\n",
    "                if i[1]>1:\n",
    "                    i[1]=i[1]-1\n",
    "                if i[1]<0:\n",
    "                    i[1]=i[1]+1\n",
    "        else: #and non-periodic bc\n",
    "            problems = []\n",
    "            for i in range(len(self.x)):\n",
    "                if self.x[i,0]>1 or self.x[i,1]>1 or self.x[i,0]<0 or self.x[i,1]<0:\n",
    "                    problems.append(i)\n",
    "            if len(problems)!=0:\n",
    "                for i in problems:\n",
    "                    self.lostK = self.lostK + np.sum(0.5*self.mstack[i]*self.v[i]**2)\n",
    "                    self.lostU = self.lostU + np.sum(self.pot)/self.n\n",
    "                self.x = np.delete(self.x, problems, 0)\n",
    "                self.v = np.delete(self.v, problems, 0)\n",
    "                self.m = np.delete(self.m, problems)\n",
    "                self.mstack = np.delete(self.mstack, problems, 0)\n",
    "                f = np.delete(f, problems, 0)\n",
    "        self.v = self.v + f*dt #update velocity"
   ]
  },
  {
   "cell_type": "markdown",
   "id": "95c53e11",
   "metadata": {},
   "source": [
    "#### Explaining each function in the nbody class:\n",
    "##### init:\n",
    "The init function initializes the variables we will need for later. The nbody class itself takes in 7 parameters: the number of particles, the number of gridcells per side, the value for soft r, the initial position of each particle, the initial velocity of each particle, the mass of each particle and whether the boundary conditions are periodic or not. The initial postion, velocity and masses of each particle is an optional entry, and if none is specified, then x is created by generating n 2D random numbers between 0 and 1, v is set to 0 for each particle and m is set to 1 for each particle. Periodic is either true or false, if true, boundary conditions are periodic, if false, boundary conditions are non-periodic.\n",
    "\n",
    "self.mstack is going to be used later for calculating kinetic energy, its just an nx2 array with each column being the mass vector.\n",
    "\n",
    "self.pot is initialized so it can be called to plot the potential for the system later on. For now, the matrix is just set to 0.\n",
    "\n",
    "At the end of the init function is the first divergence between the periodic and non-periodic boundary conditions. We want to generate our matrix for the point charge of a single particle, as well as the fft of said matrix to use later when convolving. For periodic boundary conditions, since the fourier transform itself is already a periodic function, we don't have to do any manipulations to our point charge potential. For non-periodic boundary conditions however, we have to make our point charge potential twice the size of the number of gricells. The reasoning for this will be explained below in the explanation for the density function.\n",
    "\n",
    "In non-periodic boundary conditions, we also have to create 2 values to keep track of the kinetic and potential energy of lost particles, which is explained later in the leapfrog function.\n",
    "\n",
    "##### density:\n",
    "To create the density matrix, a 2D histogram is taken of the positions of all the particles. I chose to make the domain of my class [0,1] in both x and y, as it is easy to generate random numbers in this range using np.random.rand. The number of bins is set to the number of input gridcells, and the weights of each particle is set to the mass vector.\n",
    "\n",
    "Here we see the first exception caused by our second step function: rk4. In leapfrog, we only ever need to find the density matrix of our particles, but in rk4, we need to take the density of values around the position of each particle, so we can't simply histogram self.x.\n",
    "\n",
    "If we're using periodic boundary conditions, then our density matrix is done. If we're using non-periodic boundary conditions, we need to do a bit of padding.\n",
    "\n",
    "So that the fft doesn't cause us periodic boundary conditions, we pad the density function with 0s in each direction equal in size to the original density matrix. This makes it so even when the fft wraps around, it will only see 0s on the other side, so the point won't feel a potential pulling it in that direction, which essentially makes it as if we cut it off and imposed a non-periodic system.\n",
    "\n",
    "##### potential:\n",
    "The potential function simply takes the density matrix and convolves it with the potential of a single point particle in order to obtain the potential of the entire system. The convolution is done by fourier transforming both the point particle potential and the density matrix, then multiplying them together and taking the inverse fourier transform.\n",
    "\n",
    "Here again exceptions are needed if we use rk4 as our step.\n",
    "\n",
    "If non-periodic boundary conditions are used, our potential matrix is 3 times the size we need it to be as it has been padded with 0s, so we need to pick out the area that will actually be needed from the padded potential.\n",
    "\n",
    "##### force:\n",
    "It's in the force function that the force on each particle is calculated. It receives as input the potential of the system and takes the gradient in both x and y. This gives us 2 grids with the force in x and y respectively on each gridcell, since force is equal to the gradient of potential. So now what we need to do is figure out in which gridcell each particle falls into. \n",
    "\n",
    "To do this, the total range (1 in this case) is divided by the number of gridcells in order to determine the size of each gridcell. The postition in x and y is then divided by this value to determine how many gridcells it takes to reach the particle. This in turn tells us the index in both x and y of the gridcell that a particle falls into. If the index is equal to the number of gridcells, the index is set to itself minus 1. This is done to include points falling on the outer boundary. For example, if you have 4 gridcells, then without this extra step, each gridcell would include particles falling in the following range: gc0=[0,0.25), gc1=[0.25,0.50), gc2=[0.50,0.75), gc3=[0.75,1). By adding this condition, we simply change it so now gc3=[0.75,1] to include particles falling on the top edge.\n",
    "\n",
    "Once we know which gridcell each particle falls into, we set the force on that particle in x and y to the gradient in x and y of the potential at that same gridcell.\n",
    "\n",
    "##### leapfrog:\n",
    "Leapfrog is the function that actually takes a step. Leapfrog updates the position of each particle by adding v\\*dt to it. It then checks to make sure particles haven't fallen outside of our range after taking their step. Once that check has been made, it calculates the new velocity of each particle by adding f*dt to it.\n",
    "\n",
    "If particles have fallen out of the range in periodic boundary conditions, then all that needs to be done is to subtract the x or y position (whichever one has left the range) by 1 (the length of our range) in order to slot it back in on the other side of the range.\n",
    "\n",
    "If we are using non-periodic boundary conditions, things are trickier. Following conservation of energy, particles under non-periodic boundary conditions should never be able to escape the range, however since our grid doesn't have an infinite number of gridcells and our dt isn't extremely tiny, some particles do end up escaping. If particles do escape, they are simply removed from the system, and the kinetic and potential energy they had before they left is retained. To estimate the potential energy of the particle that just left the system, the total potential is divided by the number of particles.\n",
    "\n",
    "##### rk4 and get_derivs:\n",
    "get_derivs is lumped in with rk4 here as it is only used when using rk4 as our step. In rk4, we use the runga-kutta method to estimate the new position of each particle, rather than using leapfrog. This method calculates the force on a particle in positions near the postition of the particle, then averages them to estimate the force on the particle. Just like the leapfrog function, the new position is calculated by adding v*dt to itself.\n",
    "\n",
    "The get_derivs function intakes an array of both position and velocity, finds the force on each position, and returns an array of velocity and force.\n",
    "\n",
    "The new velocity for each particle is calculated using this force by adding f*dt to itself.\n",
    "\n",
    "Similarly to the leapfrog function, the rk4 function also has exceptions for particles that leave the range with both periodic and non-periodic boundary conditions."
   ]
  },
  {
   "cell_type": "markdown",
   "id": "c353c08e",
   "metadata": {},
   "source": [
    "#### A function created for plotting the particles"
   ]
  },
  {
   "cell_type": "code",
   "execution_count": 6,
   "id": "a38f2a68",
   "metadata": {},
   "outputs": [],
   "source": [
    "def plots(particles, nsteps, dt, step='leapfrog', savedir=False, Vplots=False, trackE=False):\n",
    "    if step != 'leapfrog' and step !='rk4':\n",
    "        print('Only permitted step mehtods are \"leapfrog\" and \"rk4\"')\n",
    "        assert(1==0)\n",
    "    plt.figure(figsize=(6,6))\n",
    "    if savedir is not False:\n",
    "        filenames = []\n",
    "    if trackE is not False: #initializing tracking kinetic & potential energy\n",
    "        K = np.zeros(nsteps)\n",
    "        U = np.zeros(nsteps)\n",
    "    if step =='leapfrog' and Vplots is not True:\n",
    "        for i in range(nsteps):\n",
    "            if trackE is not False: #calculate energy of system at each step\n",
    "                K[i] = np.sum(0.5*particles.mstack*particles.v**2)+particles.lostK\n",
    "                U[i] = np.sum(particles.potential(particles.x))+particles.lostU\n",
    "            plt.clf()\n",
    "            plt.plot(particles.x[:,0],particles.x[:,1],'.') #plot position\n",
    "            plt.xlim(0,1)\n",
    "            plt.ylim(0,1)\n",
    "            plt.pause(0.001)\n",
    "            particles.leapfrog(dt)\n",
    "            if savedir is not False: #save images\n",
    "                plt.savefig('{}/lf_{}.png'.format(savedir,i))\n",
    "                filenames.append('lf_{}.png'.format(i))\n",
    "        if savedir is not False: #created gif from saved images\n",
    "            images = []\n",
    "            for file in filenames:\n",
    "                img = cv2.imread(os.path.join(savedir,file))\n",
    "                images.append(img)\n",
    "            imageio.mimsave('{}/leapfrog.gif'.format(savedir), images)\n",
    "        \n",
    "    if step =='leapfrog' and Vplots is True:\n",
    "        for i in range(nsteps):\n",
    "            if trackE is not False:\n",
    "                K[i] = np.sum(0.5*particles.mstack*particles.v**2)+particles.lostK\n",
    "                U[i] = np.sum(particles.potential(particles.x))+particles.lostU\n",
    "            plt.clf()\n",
    "            plt.pcolormesh(particles.pot.T)\n",
    "            plt.pause(0.001)\n",
    "            particles.leapfrog(dt)\n",
    "            if savedir is not False:\n",
    "                plt.savefig('{}/lf_V_{}.png'.format(savedir,i))\n",
    "                filenames.append('lf_V_{}.png'.format(i))\n",
    "        if savedir is not False:\n",
    "            images = []\n",
    "            for file in filenames:\n",
    "                img = cv2.imread(os.path.join(savedir,file))\n",
    "                images.append(img)\n",
    "            imageio.mimsave('{}/leapfrog_V.gif'.format(savedir), images)\n",
    "    \n",
    "    if step =='rk4' and Vplots is not True:\n",
    "        for i in range(nsteps):\n",
    "            if trackE is not False:\n",
    "                K[i] = np.sum(0.5*particles.mstack*particles.v**2)+particles.lostK\n",
    "                U[i] = np.sum(particles.potential(particles.x))+particles.lostU\n",
    "            plt.clf()\n",
    "            plt.plot(particles.x[:,0],particles.x[:,1],'.')\n",
    "            plt.xlim(0,1)\n",
    "            plt.ylim(0,1)\n",
    "            plt.pause(0.001)\n",
    "            particles.rk4(dt)\n",
    "            if savedir is not False:\n",
    "                plt.savefig('{}/rk4_{}.png'.format(savedir,i))\n",
    "                filenames.append('rk4_{}.png'.format(i))\n",
    "        if savedir is not False:\n",
    "            images = []\n",
    "            for file in filenames:\n",
    "                img = cv2.imread(os.path.join(savedir,file))\n",
    "                images.append(img)\n",
    "            imageio.mimsave('{}/rk4.gif'.format(savedir), images)\n",
    "    \n",
    "    if step =='rk4' and Vplots is True:\n",
    "        for i in range(nsteps):\n",
    "            if trackE is not False:\n",
    "                K[i] = np.sum(0.5*particles.mstack*particles.v**2)+particles.lostK\n",
    "                U[i] = np.sum(particles.potential(particles.x))+particles.lostU\n",
    "            plt.clf()\n",
    "            plt.pcolormesh(particles.potential(particles.x).T)\n",
    "            plt.pause(0.001)\n",
    "            particles.rk4(dt)\n",
    "            if savedir is not False:\n",
    "                plt.savefig('{}/rk4_V_{}.png'.format(savedir,i))\n",
    "                filenames.append('rk4_V_{}.png'.format(i))\n",
    "        if savedir is not False:\n",
    "            images = []\n",
    "            for file in filenames:\n",
    "                img = cv2.imread(os.path.join(savedir,file))\n",
    "                images.append(img)\n",
    "            imageio.mimsave('{}/rk4_V.gif'.format(savedir), images)\n",
    "    if trackE is not False:\n",
    "        return K, U, K+U"
   ]
  },
  {
   "cell_type": "markdown",
   "id": "bf185867",
   "metadata": {},
   "source": [
    "The above function takes in a class of particles, the number of steps we want to take, dt, as well as which step function to use. There is also a parameter which allows you to save each plot in order to create a gif of the evolution of particle positions with time. The option to view plots of the potential of the system rather than the position of each particle as well as track the energy of the system is also possible using the extra parameters.\n",
    "\n",
    "The function plots the position (or the potential of the system if that's what's selected) of each particle in the system, then takes a step (in either leapfrog or rk4 with a set dt), then plots the position again, then takes another step... and so on.\n",
    "\n",
    "If the energy is wished to be tracked, then at each step the kinetic energy of the system is calculated using $K = \\frac{1}{2}mv^2$ and the potential energy is calculated by summing up the total potential in the system. If non-periodic boundary conditions are being used, then the kinetic and potential energy of particles that have left the system has to be added to these values."
   ]
  },
  {
   "cell_type": "markdown",
   "id": "bf9168e3",
   "metadata": {},
   "source": [
    "### Part 1:"
   ]
  },
  {
   "cell_type": "code",
   "execution_count": 7,
   "id": "9e255408",
   "metadata": {},
   "outputs": [],
   "source": [
    "parts = nbody(1, 200, 0.5, periodic=True)\n",
    "plots(parts, 50, 0.005, step='leapfrog', savedir='images/particle_at_rest')"
   ]
  },
  {
   "cell_type": "markdown",
   "id": "4d7c0839",
   "metadata": {},
   "source": [
    "<div>\n",
    "<img src=\"images/particle_at_rest/leapfrog.gif\" width=\"400\">\n",
    "</div>"
   ]
  },
  {
   "cell_type": "markdown",
   "id": "138e0f13",
   "metadata": {},
   "source": [
    "As can be seen in the super interesting gif above, a single particle starting at rest remains motionless."
   ]
  },
  {
   "cell_type": "markdown",
   "id": "c34ac7c5",
   "metadata": {},
   "source": [
    "### Part 2:"
   ]
  },
  {
   "cell_type": "code",
   "execution_count": 8,
   "id": "6831d3b0",
   "metadata": {},
   "outputs": [],
   "source": [
    "circlex = np.array([[0.4,0.5],[0.6,0.5]])\n",
    "circlev = np.array([[0,0.05],[0,-0.05]])\n",
    "\n",
    "parts=nbody(2,200,0.5, x=circlex, v=circlev, periodic=False)\n",
    "plots(parts, 500, 0.05, step='leapfrog', savedir='images/rotate')"
   ]
  },
  {
   "cell_type": "markdown",
   "id": "dca452e9",
   "metadata": {},
   "source": [
    "<div>\n",
    "<img src=\"images/rotate/leapfrog.gif\" width=\"400\">\n",
    "</div>"
   ]
  },
  {
   "cell_type": "markdown",
   "id": "8297ef60",
   "metadata": {},
   "source": [
    "As you can see, two particles placed in a circular orbit continue to orbit eachother. And if you don't believe me that they follow a circular path, we can plot their trails too:"
   ]
  },
  {
   "cell_type": "markdown",
   "id": "bfed5165",
   "metadata": {},
   "source": [
    "<div>\n",
    "<img src=\"images/rotate_save/leapfrog.gif\" width=\"400\">\n",
    "</div>"
   ]
  },
  {
   "cell_type": "markdown",
   "id": "bc9fae0d",
   "metadata": {},
   "source": [
    "### Problem 3:"
   ]
  },
  {
   "cell_type": "markdown",
   "id": "d721a281",
   "metadata": {},
   "source": [
    "The systems for problem 3 and 4 were run on a different computer, but these where the settings used for it."
   ]
  },
  {
   "cell_type": "code",
   "execution_count": 9,
   "id": "29093263",
   "metadata": {},
   "outputs": [],
   "source": [
    "nparts = 500000\n",
    "nsteps = 1500\n",
    "gridcells = 200\n",
    "soft = 0.5\n",
    "dt = 0.0005"
   ]
  },
  {
   "cell_type": "markdown",
   "id": "b5c21f3a",
   "metadata": {},
   "source": [
    "Below are the position and potential plots using leapfrog as our step and with non-periodic boundary conditions."
   ]
  },
  {
   "cell_type": "markdown",
   "id": "4e21dd97",
   "metadata": {},
   "source": [
    "<div>\n",
    "<img src=\"images/leapfrog/leapfrog_non.gif\" width=\"400\">\n",
    "</div>"
   ]
  },
  {
   "cell_type": "markdown",
   "id": "1db43418",
   "metadata": {},
   "source": [
    "<div>\n",
    "<img src=\"images/leapfrog/leapfrog_V_non.gif\" width=\"400\">\n",
    "</div>"
   ]
  },
  {
   "cell_type": "code",
   "execution_count": 2,
   "id": "92aa8864",
   "metadata": {},
   "outputs": [],
   "source": [
    "K_leap_non = np.loadtxt('images/leapfrog/K_leap_non.txt')\n",
    "U_leap_non = np.loadtxt('images/leapfrog/U_leap_non.txt')\n",
    "E_leap_non = np.loadtxt('images/leapfrog/E_leap_non.txt')"
   ]
  },
  {
   "cell_type": "markdown",
   "id": "ea74e7f2",
   "metadata": {},
   "source": [
    "Below are the position and potential plots using leapfrog as our step and with periodic boundary conditions."
   ]
  },
  {
   "cell_type": "markdown",
   "id": "7ae3340d",
   "metadata": {},
   "source": [
    "<div>\n",
    "<img src=\"images/leapfrog/leapfrog_period.gif\" width=\"400\">\n",
    "</div>"
   ]
  },
  {
   "cell_type": "markdown",
   "id": "1f4e88b1",
   "metadata": {},
   "source": [
    "<div>\n",
    "<img src=\"images/leapfrog/leapfrog_V_period.gif\" width=\"400\">\n",
    "</div>"
   ]
  },
  {
   "cell_type": "code",
   "execution_count": 3,
   "id": "1ff283c1",
   "metadata": {},
   "outputs": [],
   "source": [
    "K_leap_period = np.loadtxt('images/leapfrog/K_leap_period.txt')\n",
    "U_leap_period = np.loadtxt('images/leapfrog/U_leap_period.txt')\n",
    "E_leap_period = np.loadtxt('images/leapfrog/E_leap_period.txt')"
   ]
  },
  {
   "cell_type": "code",
   "execution_count": 7,
   "id": "faed1603",
   "metadata": {},
   "outputs": [
    {
     "data": {
      "image/png": "[encoded data removed]",
      "text/plain": [
       "<Figure size 1008x432 with 2 Axes>"
      ]
     },
     "metadata": {
      "needs_background": "light"
     },
     "output_type": "display_data"
    }
   ],
   "source": [
    "plt.figure(figsize=(14,6))\n",
    "plt.subplot(1,2,1)\n",
    "plt.title('Non-Periodic', fontsize=16)\n",
    "plt.plot(E_leap_non)\n",
    "plt.xlabel('Number of Steps', fontsize=14)\n",
    "plt.ylabel('Energy', fontsize=14)\n",
    "plt.subplot(1,2,2)\n",
    "plt.title('Periodic', fontsize=16)\n",
    "plt.plot(E_leap_period)\n",
    "plt.xlabel('Number of Steps', fontsize=14)\n",
    "plt.ylabel('Energy', fontsize=14)\n",
    "plt.show()"
   ]
  },
  {
   "cell_type": "markdown",
   "id": "8fe5003c",
   "metadata": {},
   "source": [
    "As can be seen from the above graphs, the non-periodic boundary conditions stabilizes faster and remains more stable than when using periodic boundary conditions. The fact that many particles end up leaving the range and so get deleted from the system however means that there is more estimation in the non-periodic boundary conditions, and so the result may be less accurate.\n",
    "\n",
    "Based on these results, it seems that, when using leapfrog as our step, the non-periodic boundary conditions preserve energy better than the periodic boundary conditions."
   ]
  },
  {
   "cell_type": "markdown",
   "id": "b993e9d1",
   "metadata": {},
   "source": [
    "### Problem 4:"
   ]
  },
  {
   "cell_type": "markdown",
   "id": "2298b6d4",
   "metadata": {},
   "source": [
    "The only difference in parameters between problems 3 and 4 is that the number of steps for our rk4 system was divided by 4, since each step calls our force function 4 times."
   ]
  },
  {
   "cell_type": "markdown",
   "id": "96e3a3a9",
   "metadata": {},
   "source": [
    "Below are the position and potential plots using rk4 as our step and with non-periodic boundary conditions."
   ]
  },
  {
   "cell_type": "markdown",
   "id": "2c14a859",
   "metadata": {},
   "source": [
    "<div>\n",
    "<img src=\"images/rk4/rk4_non.gif\" width=\"400\">\n",
    "</div>"
   ]
  },
  {
   "cell_type": "markdown",
   "id": "50590b69",
   "metadata": {},
   "source": [
    "<div>\n",
    "<img src=\"images/rk4/rk4_V_non.gif\" width=\"400\">\n",
    "</div>"
   ]
  },
  {
   "cell_type": "code",
   "execution_count": 8,
   "id": "c164db83",
   "metadata": {},
   "outputs": [],
   "source": [
    "K_rk4_non = np.loadtxt('images/rk4/K_rk4_non.txt')\n",
    "U_rk4_non = np.loadtxt('images/rk4/U_rk4_non.txt')\n",
    "E_rk4_non = np.loadtxt('images/rk4/E_rk4_non.txt')"
   ]
  },
  {
   "cell_type": "markdown",
   "id": "9c90ff1d",
   "metadata": {},
   "source": [
    "Below are the position and potential plots using rk4 as our step and with periodic boundary conditions."
   ]
  },
  {
   "cell_type": "markdown",
   "id": "19fd95d3",
   "metadata": {},
   "source": [
    "<div>\n",
    "<img src=\"images/rk4/rk4_period.gif\" width=\"400\">\n",
    "</div>"
   ]
  },
  {
   "cell_type": "markdown",
   "id": "daf1bdab",
   "metadata": {},
   "source": [
    "<div>\n",
    "<img src=\"images/rk4/rk4_V_period.gif\" width=\"400\">\n",
    "</div>"
   ]
  },
  {
   "cell_type": "code",
   "execution_count": 9,
   "id": "2479b3bc",
   "metadata": {},
   "outputs": [],
   "source": [
    "K_rk4_period = np.loadtxt('images/rk4/K_rk4_period.txt')\n",
    "U_rk4_period = np.loadtxt('images/rk4/U_rk4_period.txt')\n",
    "E_rk4_period = np.loadtxt('images/rk4/E_rk4_period.txt')"
   ]
  },
  {
   "cell_type": "code",
   "execution_count": 10,
   "id": "98b69b20",
   "metadata": {},
   "outputs": [
    {
     "data": {
      "image/png": "[encoded data removed]",
      "text/plain": [
       "<Figure size 1008x432 with 2 Axes>"
      ]
     },
     "metadata": {
      "needs_background": "light"
     },
     "output_type": "display_data"
    }
   ],
   "source": [
    "plt.figure(figsize=(14,6))\n",
    "plt.subplot(1,2,1)\n",
    "plt.title('Non-Periodic', fontsize=16)\n",
    "plt.plot(E_rk4_non)\n",
    "plt.xlabel('Number of Steps', fontsize=14)\n",
    "plt.ylabel('Energy', fontsize=14)\n",
    "plt.subplot(1,2,2)\n",
    "plt.title('Periodic', fontsize=16)\n",
    "plt.plot(E_rk4_period)\n",
    "plt.xlabel('Number of Steps', fontsize=14)\n",
    "plt.ylabel('Energy', fontsize=14)\n",
    "plt.show()"
   ]
  },
  {
   "cell_type": "markdown",
   "id": "83bd5847",
   "metadata": {},
   "source": [
    "This is not at all what I was expecting from using rk4 as the step. The energy in both periodic and non-periodic boundary conditions doesn't seem to stabilize. Granted, this system only takes a quarter of the steps that leapfrog takes, but based on when I've used rk4 in the past, it still usually would get a better result despite the lower number of steps.\n",
    "\n",
    "Unexpectedly, based on these results, using leapfrog as our step actually preserves energy better than using rk4 at fixed computational work time."
   ]
  }
 ],
 "metadata": {
  "kernelspec": {
   "display_name": "Python 3 (ipykernel)",
   "language": "python",
   "name": "python3"
  },
  "language_info": {
   "codemirror_mode": {
    "name": "ipython",
    "version": 3
   },
   "file_extension": ".py",
   "mimetype": "text/x-python",
   "name": "python",
   "nbconvert_exporter": "python",
   "pygments_lexer": "ipython3",
   "version": "3.9.7"
  }
 },
 "nbformat": 4,
 "nbformat_minor": 5
}
