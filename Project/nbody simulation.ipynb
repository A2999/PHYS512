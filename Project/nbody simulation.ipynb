{
 "cells": [
  {
   "cell_type": "markdown",
   "id": "2ba6b155",
   "metadata": {},
   "source": [
    "# Making a 2D N-Body Simulation"
   ]
  },
  {
   "cell_type": "markdown",
   "id": "cb165681",
   "metadata": {},
   "source": [
    "##### PHYS 512 Final Project"
   ]
  },
  {
   "cell_type": "code",
   "execution_count": 57,
   "id": "7be05b1a",
   "metadata": {},
   "outputs": [],
   "source": [
    "import numpy as np\n",
    "import matplotlib.pyplot as plt\n",
    "%matplotlib qt\n",
    "\n",
    "def point_charge_V(g, soft_r, b=5):\n",
    "    x, y = np.meshgrid(np.linspace(-b,b, g), np.linspace(-b,b, g))\n",
    "    r = np.sqrt(x**2+y**2)\n",
    "    r[r<soft_r]=soft_r\n",
    "    V = 1/r   \n",
    "    return V\n",
    "    \n",
    "class nbody:\n",
    "    def __init__(self, n, gridsize, soft_r, x=False, m=False, v=False, plotting=True):\n",
    "        self.n = n\n",
    "        if x is False:\n",
    "            self.x = np.random.rand(n,2)\n",
    "        else:\n",
    "            if x.shape[1]!=2:\n",
    "                print('Position must be a Nx2 array')\n",
    "                assert(1==0)\n",
    "            elif int(n)!=len(x):\n",
    "                print(\"Number of particles doesn't match number of initial positions.\")\n",
    "                assert(1==0)\n",
    "            self.x = x\n",
    "        if m is False:\n",
    "            self.m = np.ones(n)\n",
    "        else:\n",
    "            if int(n)!=len(m):\n",
    "                print(\"Number of particles doesn't match number of initial masses.\")\n",
    "                assert(1==0)\n",
    "            self.m = m\n",
    "        if v is False:\n",
    "            self.v = np.zeros([n,2])\n",
    "        else:\n",
    "            if v.shape[1]!=2:\n",
    "                print('Position must be a Nx2 array')\n",
    "                assert(1==0)\n",
    "            elif len(x)!=len(v):\n",
    "                print(\"Number of initial positions doesn't match number of initial velocities.\")\n",
    "                assert(1==0)\n",
    "            self.v = v\n",
    "        self.g = gridsize\n",
    "        self.soft = soft_r\n",
    "            \n",
    "    def density(self):\n",
    "        density = np.histogram2d(self.x[:,0],self.x[:,1], bins=self.g, weights=self.m)\n",
    "        self.p = density[0]\n",
    "        return self.p\n",
    "    \n",
    "    def potential(self):\n",
    "        density = self.density()\n",
    "        temp = density.copy()\n",
    "        temp = np.pad(temp,(0,temp.shape[0]))\n",
    "        tempft = np.fft.rfftn(temp)\n",
    "        \n",
    "        point = point_charge_V(2*self.g, self.soft)\n",
    "        pointft = np.fft.rfft2(point)\n",
    "        \n",
    "        temp = np.fft.irfftn(tempft*pointft)\n",
    "        \n",
    "        self.pot = temp[:density.shape[0],:density.shape[1]]\n",
    "        return self.pot\n",
    "    \n",
    "    def force(self):\n",
    "        V = self.potential()\n",
    "        ax, ay = np.gradient(V)\n",
    "        f = np.empty([self.n,2])\n",
    "        dx = 1/self.g\n",
    "        for i in range(len(self.x)):\n",
    "            index = self.x[i]//dx\n",
    "            f[i] = -np.array([ax[int(index[0]),int(index[1])],ay[int(index[0]),int(index[1])]])*self.m[i]\n",
    "        self.f = f\n",
    "        return self.f\n",
    "    \n",
    "    def leapfrog(self, dt):\n",
    "        self.x = self.x + self.v*dt\n",
    "        kin1 = np.sum(self.v**2)\n",
    "        V = np.sum(self.potential())\n",
    "        self.v = self.v + self.force()*dt\n",
    "        kin2 = np.sum(self.v**2)\n",
    "        K = 0.5*(kin1+kin2)\n",
    "        print('energies are ', V/self.n**2, K/self.n**2, (K-V)/self.n**2)\n",
    "        return K,V"
   ]
  },
  {
   "cell_type": "code",
   "execution_count": 59,
   "id": "71075c6c",
   "metadata": {},
   "outputs": [
    {
     "name": "stdout",
     "output_type": "stream",
     "text": [
      "energies are  1700.822486789524 3.1287997347929208e-06 -1700.8224836607242\n",
      "energies are  1700.822486789524 6.263860197855162e-06 -1700.8224805256639\n",
      "energies are  1700.822486789524 1.566277772997283e-05 -1700.8224711267462\n",
      "energies are  1700.822486789524 2.5067959119159557e-05 -1700.8224617215649\n",
      "energies are  1700.822486789524 4.073699757740171e-05 -1700.8224460525264\n",
      "energies are  1700.822486789524 5.641229989271292e-05 -1700.822430377224\n",
      "energies are  1700.822486789524 7.603044658113968e-05 -1700.8224107590775\n",
      "energies are  1700.822486789524 9.565197671873284e-05 -1700.8223911375474\n",
      "energies are  1700.822486789524 0.00012041857351196566 -1700.8223663709505\n",
      "energies are  1700.822486789524 0.00014519031537185413 -1700.8223415992086\n",
      "energies are  1700.822486789524 0.00017510712388738223 -1700.8223116824001\n",
      "energies are  1700.822486789524 0.000205029077469566 -1700.8222817604465\n",
      "energies are  1700.822486789524 0.0002400960977073894 -1700.8222466934262\n",
      "energies are  1700.822486789524 0.0002751682630118684 -1700.822211621261\n",
      "energies are  1700.822486789524 0.00031156613595829735 -1700.822175223388\n",
      "energies are  1700.822486789524 0.00034796489382777035 -1700.8221388246302\n",
      "energies are  1700.822486789524 0.0003886271491572857 -1700.822098162375\n",
      "energies are  1700.822486789524 0.000429293667984261 -1700.822057495856\n",
      "energies are  1700.822486789524 0.00047422368427127865 -1700.8220125658397\n",
      "energies are  1700.822486789524 0.0005191579640557564 -1700.8219676315598\n",
      "energies are  1700.822486789524 0.0005639498959999129 -1700.8219228396279\n",
      "energies are  1700.822486789524 0.000608741334703067 -1700.8218780481893\n",
      "energies are  1700.822486789524 0.0006570944845417864 -1700.8218296950395\n",
      "energies are  1700.822486789524 0.0007054511960916412 -1700.8217813383278\n",
      "energies are  1700.822486789524 0.0007529338979720127 -1700.821733855626\n",
      "energies are  1700.822486789524 0.000800415443874576 -1700.8216863740802\n",
      "energies are  1700.822486789524 0.0008508947646356387 -1700.8216358947593\n",
      "energies are  1700.822486789524 0.00090137708317156 -1700.8215854124408\n",
      "energies are  1700.822486789524 0.0009504816619393963 -1700.821536307862\n",
      "energies are  1700.822486789524 0.000999584634419104 -1700.8214872048895\n",
      "energies are  1700.822486789524 0.0010465189520090167 -1700.8214402705719\n",
      "energies are  1700.822486789524 0.0010934508842289587 -1700.8213933386398\n",
      "energies are  1700.822486789524 0.0011424900644242952 -1700.8213442994595\n",
      "energies are  1700.822486789524 0.0011915313518676075 -1700.821295258172\n",
      "energies are  1700.822486789524 0.0012388582572200107 -1700.8212479312667\n",
      "energies are  1700.822486789524 0.0012861833001467714 -1700.8212006062238\n",
      "energies are  1700.822486789524 0.0013317723172097664 -1700.8211550172068\n",
      "energies are  1700.822486789524 0.0013773594752647372 -1700.8211094300486\n",
      "energies are  1700.822486789524 0.001424511829869125 -1700.8210622776942\n",
      "energies are  1700.822486789524 0.0014716657496700626 -1700.8210151237743\n",
      "energies are  1700.822486789524 0.0015169852008081654 -1700.820969804323\n",
      "energies are  1700.822486789524 0.0015623027146894554 -1700.8209244868092\n",
      "energies are  1700.822486789524 0.0016058003077825884 -1700.8208809892162\n",
      "energies are  1700.822486789524 0.0016492959934653174 -1700.8208374935305\n",
      "energies are  1700.822486789524 0.0016910462852004699 -1700.8207957432387\n",
      "energies are  1700.822486789524 0.0017327947585275177 -1700.8207539947655\n",
      "energies are  1700.822486789524 0.0017728582894119813 -1700.8207139312346\n",
      "energies are  1700.822486789524 0.0018129200733435482 -1700.8206738694507\n",
      "energies are  1700.822486789524 0.001853896449070037 -1700.8206328930748\n",
      "energies are  1700.822486789524 0.0018948737393883208 -1700.8205919157847\n",
      "energies are  1700.822486789524 0.0019337383194238675 -1700.8205530512046\n",
      "energies are  1700.822486789524 0.0019726007241622438 -1700.8205141887997\n",
      "energies are  1700.822486789524 0.0020098925847136214 -1700.8204768969392\n",
      "energies are  1700.822486789524 0.0020471828307466063 -1700.8204396066933\n",
      "energies are  1700.822486789524 0.002082972326909669 -1700.820403817197\n",
      "energies are  1700.822486789524 0.0021187602844276324 -1700.8203680292395\n",
      "energies are  1700.822486789524 0.002153116850024588 -1700.820333672674\n",
      "energies are  1700.822486789524 0.0021874719514500146 -1700.8202993175726\n",
      "energies are  1700.822486789524 0.002220463742483099 -1700.8202663257814\n",
      "energies are  1700.822486789524 0.00225345414175045 -1700.8202333353822\n",
      "energies are  1700.822486789524 0.0022851474593058472 -1700.8202016420646\n",
      "energies are  1700.822486789524 0.0023168394549951065 -1700.820169950069\n",
      "energies are  1700.822486789524 0.00234726505337283 -1700.8201395244705\n",
      "energies are  1700.822486789524 0.002377689362722866 -1700.8201091001613\n",
      "energies are  1700.822486789524 0.002406940157963272 -1700.820079849366\n",
      "energies are  1700.822486789524 0.002436189760711244 -1700.8200505997634\n",
      "energies are  1700.822486789524 0.0024640495382340913 -1700.8200227399857\n",
      "energies are  1700.822486789524 0.0024919079055533986 -1700.8199948816184\n",
      "energies are  1700.822486789524 0.0025187229563793647 -1700.8199680665675\n",
      "energies are  1700.822486789524 0.0025455369495794907 -1700.8199412525744\n",
      "energies are  1700.822486789524 0.0025713893214341886 -1700.8199154002025\n",
      "energies are  1700.822486789524 0.002597240719819773 -1700.8198895488042\n",
      "energies are  1700.822486789524 0.0026221520911019966 -1700.8198646374328\n",
      "energies are  1700.822486789524 0.002647062511148387 -1700.8198397270128\n",
      "energies are  1700.822486789524 0.002671080135907474 -1700.819815709388\n",
      "energies are  1700.822486789524 0.0026950968579178077 -1700.819791692666\n",
      "energies are  1700.822486789524 0.0027182263862749675 -1700.8197685631376\n",
      "energies are  1700.822486789524 0.0027413550176543225 -1700.8197454345063\n",
      "energies are  1700.822486789524 0.002763676585003324 -1700.819723112939\n",
      "energies are  1700.822486789524 0.0027859973373915515 -1700.8197007921865\n",
      "energies are  1700.822486789524 0.0028075515570766467 -1700.819679237967\n",
      "energies are  1700.822486789524 0.0028291050031755216 -1700.8196576845207\n",
      "energies are  1700.822486789524 0.002849732018833549 -1700.8196370575051\n",
      "energies are  1700.822486789524 0.002870358099941174 -1700.819616431424\n",
      "energies are  1700.822486789524 0.0028903005120805153 -1700.819596489012\n",
      "energies are  1700.822486789524 0.002910242235041591 -1700.819576547289\n",
      "energies are  1700.822486789524 0.0029295342776891583 -1700.8195572552463\n",
      "energies are  1700.822486789524 0.002948825665710588 -1700.8195379638582\n",
      "energies are  1700.822486789524 0.0029674996960519615 -1700.819519289828\n",
      "energies are  1700.822486789524 0.0029861731045896346 -1700.8195006164194\n",
      "energies are  1700.822486789524 0.0030042167375244513 -1700.8194825727865\n",
      "energies are  1700.822486789524 0.0030222597358523107 -1700.819464529788\n",
      "energies are  1700.822486789524 0.0030397437144373384 -1700.8194470458095\n",
      "energies are  1700.822486789524 0.0030572271303964454 -1700.8194295623937\n",
      "energies are  1700.822486789524 0.0030741793694420002 -1700.8194126101546\n",
      "energies are  1700.822486789524 0.0030911310740574342 -1700.8193956584498\n",
      "energies are  1700.822486789524 0.0031075781143050252 -1700.8193792114096\n",
      "energies are  1700.822486789524 0.0031240246469505335 -1700.819362764877\n",
      "energies are  1700.822486789524 0.0031398334709698897 -1700.819346956053\n",
      "energies are  1700.822486789524 0.0031556416536059075 -1700.8193311478703\n",
      "energies are  1700.822486789524 0.0031709544667791042 -1700.8193158350573\n",
      "energies are  1700.822486789524 0.0031862667815104775 -1700.8193005227424\n",
      "energies are  1700.822486789524 0.003200650965056829 -1700.819286138559\n",
      "energies are  1700.822486789524 0.0032150342164525684 -1700.8192717553075\n",
      "energies are  1700.822486789524 0.0032290320303830057 -1700.8192577574937\n",
      "energies are  1700.822486789524 0.003243029457146108 -1700.819243760067\n",
      "energies are  1700.822486789524 0.003256661115064929 -1700.819230128409\n",
      "energies are  1700.822486789524 0.0032702924056474563 -1700.8192164971183\n",
      "energies are  1700.822486789524 0.0032835767486975543 -1700.8192032127752\n",
      "energies are  1700.822486789524 0.0032968607433794166 -1700.8191899287806\n",
      "energies are  1700.822486789524 0.003309770230549954 -1700.8191770192934\n",
      "energies are  1700.822486789524 0.003322679341264771 -1700.8191641101828\n"
     ]
    },
    {
     "name": "stdout",
     "output_type": "stream",
     "text": [
      "energies are  1700.822486789524 0.0033352754684760648 -1700.8191515140554\n",
      "energies are  1700.822486789524 0.0033478712815360745 -1700.8191389182425\n",
      "energies are  1700.822486789524 0.0033600412378974633 -1700.819126748286\n",
      "energies are  1700.822486789524 0.003372210766780687 -1700.819114578757\n",
      "energies are  1700.822486789524 0.0033841028333854006 -1700.8191026866905\n",
      "energies are  1700.822486789524 0.003395994621606808 -1700.8190907949024\n",
      "energies are  1700.822486789524 0.003407310736678105 -1700.8190794787872\n",
      "energies are  1700.822486789524 0.0034186262744889343 -1700.8190681632495\n",
      "energies are  1700.822486789524 0.003429700109753275 -1700.8190570894142\n",
      "energies are  1700.822486789524 0.0034407737025964466 -1700.8190460158214\n",
      "energies are  1700.822486789524 0.0034516275182967368 -1700.8190351620058\n",
      "energies are  1700.822486789524 0.003462481113604164 -1700.8190243084105\n",
      "energies are  1700.822486789524 0.0034731278213154873 -1700.8190136617027\n",
      "energies are  1700.822486789524 0.003483774321583364 -1700.8190030152023\n",
      "energies are  1700.822486789524 0.0034942263394008065 -1700.8189925631846\n",
      "energies are  1700.822486789524 0.0035046781622344314 -1700.8189821113617\n",
      "energies are  1700.822486789524 0.0035148999316920223 -1700.8189718895924\n",
      "energies are  1700.822486789524 0.003525121470083021 -1700.8189616680538\n",
      "energies are  1700.822486789524 0.0035351708451551948 -1700.8189516186787\n",
      "energies are  1700.822486789524 0.0035452200476573923 -1700.8189415694762\n",
      "energies are  1700.822486789524 0.0035548005882597503 -1700.8189319889357\n",
      "energies are  1700.822486789524 0.0035643806592765273 -1700.8189224088646\n",
      "energies are  1700.822486789524 0.003573823778022519 -1700.818912965746\n",
      "energies are  1700.822486789524 0.0035832667595461854 -1700.8189035227645\n",
      "energies are  1700.822486789524 0.003592582687329219 -1700.8188942068366\n",
      "energies are  1700.822486789524 0.0036018984878183878 -1700.818884891036\n",
      "energies are  1700.822486789524 0.00361104938430119 -1700.8188757401397\n",
      "energies are  1700.822486789524 0.0036202001151682856 -1700.8188665894088\n",
      "energies are  1700.822486789524 0.0036292415330629393 -1700.818857547991\n",
      "energies are  1700.822486789524 0.0036382828414561795 -1700.8188485066826\n",
      "energies are  1700.822486789524 0.0036470797579239763 -1700.818839709766\n",
      "energies are  1700.822486789524 0.003655876429687346 -1700.8188309130942\n",
      "energies are  1700.822486789524 0.0036645435110188767 -1700.818822246013\n",
      "energies are  1700.822486789524 0.0036732104621900828 -1700.8188135790617\n",
      "energies are  1700.822486789524 0.00368180087571698 -1700.8188049886483\n",
      "energies are  1700.822486789524 0.00369039121259413 -1700.8187963983114\n",
      "energies are  1700.822486789524 0.003698912613397636 -1700.8187878769106\n",
      "energies are  1700.822486789524 0.003707433945167398 -1700.8187793555787\n",
      "energies are  1700.822486789524 0.003715893649353632 -1700.8187708958746\n",
      "energies are  1700.822486789524 0.0037243532918274664 -1700.8187624362322\n",
      "energies are  1698.3871301878942 0.003569946221958048 -1698.3835602416723\n",
      "energies are  1698.3871301878942 0.0034153822198023922 -1698.3837148056743\n",
      "energies are  1698.3871301878942 0.0032791447431215676 -1698.383851043151\n",
      "energies are  1698.3871301878942 0.003142926855358877 -1698.3839872610388\n",
      "energies are  1698.3871301878942 0.0030200556187884526 -1698.3841101322753\n",
      "energies are  1698.3871301878942 0.002897199050901217 -1698.3842329888432\n",
      "energies are  1698.3871301878942 0.002793845766026065 -1698.384336342128\n",
      "energies are  1698.3871301878942 0.002690513547020229 -1698.384439674347\n",
      "energies are  1698.3871301878942 0.002613798357438523 -1698.3845163895367\n",
      "energies are  1698.3871301878942 0.002537111658054818 -1698.3845930762361\n",
      "energies are  1698.3871301878942 0.0025076673340417837 -1698.3846225205602\n",
      "energies are  1698.3871301878942 0.0024782694139009707 -1698.3846519184804\n",
      "energies are  1698.3871301878942 0.002471153853067211 -1698.384659034041\n",
      "energies are  1698.3871301878942 0.0024640605745927585 -1698.3846661273196\n",
      "energies are  1698.3871301878942 0.0024975344920122743 -1698.3846326534022\n",
      "energies are  1698.3871301878942 0.0025310478761564476 -1698.384599140018\n",
      "energies are  1698.3871301878942 0.002602667849344629 -1698.384527520045\n",
      "energies are  1698.3871301878942 0.002674327086780162 -1698.3844558608073\n",
      "energies are  1698.3871301878942 0.002777386451644836 -1698.3843528014424\n",
      "energies are  1698.3871301878942 0.002880475609468201 -1698.3842497122846\n",
      "energies are  1698.3871301878942 0.002990419863816229 -1698.3841397680303\n",
      "energies are  1698.3871301878942 0.003100368962474427 -1698.3840298189316\n",
      "energies are  1698.3871301878942 0.003225540169210303 -1698.3839046477249\n",
      "energies are  1698.3871301878942 0.003350725442831449 -1698.3837794624512\n",
      "energies are  1698.3871301878942 0.0034845481223825994 -1698.3836456397719\n",
      "energies are  1698.3871301878942 0.0036183784686022063 -1698.3835118094255\n",
      "energies are  1698.3871301878942 0.0037552282171384294 -1698.383374959677\n",
      "energies are  1698.3871301878942 0.003892080106881356 -1698.3832381077873\n",
      "energies are  1698.3871301878942 0.0040234187970768324 -1698.3831067690971\n",
      "energies are  1698.3871301878942 0.00415475119078252 -1698.3829754367034\n",
      "energies are  1698.3871301878942 0.004282523237742846 -1698.3828476646565\n",
      "energies are  1698.3871301878942 0.004410291153839806 -1698.3827198967404\n"
     ]
    },
    {
     "ename": "IndexError",
     "evalue": "index 100 is out of bounds for axis 0 with size 100",
     "output_type": "error",
     "traceback": [
      "\u001b[1;31m---------------------------------------------------------------------------\u001b[0m",
      "\u001b[1;31mIndexError\u001b[0m                                Traceback (most recent call last)",
      "\u001b[1;32m~\\AppData\\Local\\Temp/ipykernel_20260/3806923167.py\u001b[0m in \u001b[0;36m<module>\u001b[1;34m\u001b[0m\n\u001b[0;32m     10\u001b[0m     \u001b[0mplt\u001b[0m\u001b[1;33m.\u001b[0m\u001b[0mylim\u001b[0m\u001b[1;33m(\u001b[0m\u001b[1;36m0\u001b[0m\u001b[1;33m,\u001b[0m\u001b[1;36m1\u001b[0m\u001b[1;33m)\u001b[0m\u001b[1;33m\u001b[0m\u001b[1;33m\u001b[0m\u001b[0m\n\u001b[0;32m     11\u001b[0m     \u001b[0mplt\u001b[0m\u001b[1;33m.\u001b[0m\u001b[0mpause\u001b[0m\u001b[1;33m(\u001b[0m\u001b[1;36m0.001\u001b[0m\u001b[1;33m)\u001b[0m\u001b[1;33m\u001b[0m\u001b[1;33m\u001b[0m\u001b[0m\n\u001b[1;32m---> 12\u001b[1;33m     \u001b[0mparts\u001b[0m\u001b[1;33m.\u001b[0m\u001b[0mleapfrog\u001b[0m\u001b[1;33m(\u001b[0m\u001b[1;36m0.1\u001b[0m\u001b[1;33m)\u001b[0m\u001b[1;33m\u001b[0m\u001b[1;33m\u001b[0m\u001b[0m\n\u001b[0m\u001b[0;32m     13\u001b[0m     \u001b[0mkk\u001b[0m\u001b[1;33m[\u001b[0m\u001b[0mi\u001b[0m\u001b[1;33m]\u001b[0m\u001b[1;33m,\u001b[0m\u001b[0mpp\u001b[0m\u001b[1;33m[\u001b[0m\u001b[0mi\u001b[0m\u001b[1;33m]\u001b[0m\u001b[1;33m=\u001b[0m\u001b[0mparts\u001b[0m\u001b[1;33m.\u001b[0m\u001b[0mleapfrog\u001b[0m\u001b[1;33m(\u001b[0m\u001b[1;36m1e-4\u001b[0m\u001b[1;33m)\u001b[0m\u001b[1;33m\u001b[0m\u001b[1;33m\u001b[0m\u001b[0m\n",
      "\u001b[1;32m~\\AppData\\Local\\Temp/ipykernel_20260/274803123.py\u001b[0m in \u001b[0;36mleapfrog\u001b[1;34m(self, dt)\u001b[0m\n\u001b[0;32m     77\u001b[0m         \u001b[0mkin1\u001b[0m \u001b[1;33m=\u001b[0m \u001b[0mnp\u001b[0m\u001b[1;33m.\u001b[0m\u001b[0msum\u001b[0m\u001b[1;33m(\u001b[0m\u001b[0mself\u001b[0m\u001b[1;33m.\u001b[0m\u001b[0mv\u001b[0m\u001b[1;33m**\u001b[0m\u001b[1;36m2\u001b[0m\u001b[1;33m)\u001b[0m\u001b[1;33m\u001b[0m\u001b[1;33m\u001b[0m\u001b[0m\n\u001b[0;32m     78\u001b[0m         \u001b[0mV\u001b[0m \u001b[1;33m=\u001b[0m \u001b[0mnp\u001b[0m\u001b[1;33m.\u001b[0m\u001b[0msum\u001b[0m\u001b[1;33m(\u001b[0m\u001b[0mself\u001b[0m\u001b[1;33m.\u001b[0m\u001b[0mpotential\u001b[0m\u001b[1;33m(\u001b[0m\u001b[1;33m)\u001b[0m\u001b[1;33m)\u001b[0m\u001b[1;33m\u001b[0m\u001b[1;33m\u001b[0m\u001b[0m\n\u001b[1;32m---> 79\u001b[1;33m         \u001b[0mself\u001b[0m\u001b[1;33m.\u001b[0m\u001b[0mv\u001b[0m \u001b[1;33m=\u001b[0m \u001b[0mself\u001b[0m\u001b[1;33m.\u001b[0m\u001b[0mv\u001b[0m \u001b[1;33m+\u001b[0m \u001b[0mself\u001b[0m\u001b[1;33m.\u001b[0m\u001b[0mforce\u001b[0m\u001b[1;33m(\u001b[0m\u001b[1;33m)\u001b[0m\u001b[1;33m*\u001b[0m\u001b[0mdt\u001b[0m\u001b[1;33m\u001b[0m\u001b[1;33m\u001b[0m\u001b[0m\n\u001b[0m\u001b[0;32m     80\u001b[0m         \u001b[0mkin2\u001b[0m \u001b[1;33m=\u001b[0m \u001b[0mnp\u001b[0m\u001b[1;33m.\u001b[0m\u001b[0msum\u001b[0m\u001b[1;33m(\u001b[0m\u001b[0mself\u001b[0m\u001b[1;33m.\u001b[0m\u001b[0mv\u001b[0m\u001b[1;33m**\u001b[0m\u001b[1;36m2\u001b[0m\u001b[1;33m)\u001b[0m\u001b[1;33m\u001b[0m\u001b[1;33m\u001b[0m\u001b[0m\n\u001b[0;32m     81\u001b[0m         \u001b[0mK\u001b[0m \u001b[1;33m=\u001b[0m \u001b[1;36m0.5\u001b[0m\u001b[1;33m*\u001b[0m\u001b[1;33m(\u001b[0m\u001b[0mkin1\u001b[0m\u001b[1;33m+\u001b[0m\u001b[0mkin2\u001b[0m\u001b[1;33m)\u001b[0m\u001b[1;33m\u001b[0m\u001b[1;33m\u001b[0m\u001b[0m\n",
      "\u001b[1;32m~\\AppData\\Local\\Temp/ipykernel_20260/274803123.py\u001b[0m in \u001b[0;36mforce\u001b[1;34m(self)\u001b[0m\n\u001b[0;32m     69\u001b[0m         \u001b[1;32mfor\u001b[0m \u001b[0mi\u001b[0m \u001b[1;32min\u001b[0m \u001b[0mrange\u001b[0m\u001b[1;33m(\u001b[0m\u001b[0mlen\u001b[0m\u001b[1;33m(\u001b[0m\u001b[0mself\u001b[0m\u001b[1;33m.\u001b[0m\u001b[0mx\u001b[0m\u001b[1;33m)\u001b[0m\u001b[1;33m)\u001b[0m\u001b[1;33m:\u001b[0m\u001b[1;33m\u001b[0m\u001b[1;33m\u001b[0m\u001b[0m\n\u001b[0;32m     70\u001b[0m             \u001b[0mindex\u001b[0m \u001b[1;33m=\u001b[0m \u001b[0mself\u001b[0m\u001b[1;33m.\u001b[0m\u001b[0mx\u001b[0m\u001b[1;33m[\u001b[0m\u001b[0mi\u001b[0m\u001b[1;33m]\u001b[0m\u001b[1;33m//\u001b[0m\u001b[0mdx\u001b[0m\u001b[1;33m\u001b[0m\u001b[1;33m\u001b[0m\u001b[0m\n\u001b[1;32m---> 71\u001b[1;33m             \u001b[0mf\u001b[0m\u001b[1;33m[\u001b[0m\u001b[0mi\u001b[0m\u001b[1;33m]\u001b[0m \u001b[1;33m=\u001b[0m \u001b[1;33m-\u001b[0m\u001b[0mnp\u001b[0m\u001b[1;33m.\u001b[0m\u001b[0marray\u001b[0m\u001b[1;33m(\u001b[0m\u001b[1;33m[\u001b[0m\u001b[0max\u001b[0m\u001b[1;33m[\u001b[0m\u001b[0mint\u001b[0m\u001b[1;33m(\u001b[0m\u001b[0mindex\u001b[0m\u001b[1;33m[\u001b[0m\u001b[1;36m0\u001b[0m\u001b[1;33m]\u001b[0m\u001b[1;33m)\u001b[0m\u001b[1;33m,\u001b[0m\u001b[0mint\u001b[0m\u001b[1;33m(\u001b[0m\u001b[0mindex\u001b[0m\u001b[1;33m[\u001b[0m\u001b[1;36m1\u001b[0m\u001b[1;33m]\u001b[0m\u001b[1;33m)\u001b[0m\u001b[1;33m]\u001b[0m\u001b[1;33m,\u001b[0m\u001b[0may\u001b[0m\u001b[1;33m[\u001b[0m\u001b[0mint\u001b[0m\u001b[1;33m(\u001b[0m\u001b[0mindex\u001b[0m\u001b[1;33m[\u001b[0m\u001b[1;36m0\u001b[0m\u001b[1;33m]\u001b[0m\u001b[1;33m)\u001b[0m\u001b[1;33m,\u001b[0m\u001b[0mint\u001b[0m\u001b[1;33m(\u001b[0m\u001b[0mindex\u001b[0m\u001b[1;33m[\u001b[0m\u001b[1;36m1\u001b[0m\u001b[1;33m]\u001b[0m\u001b[1;33m)\u001b[0m\u001b[1;33m]\u001b[0m\u001b[1;33m]\u001b[0m\u001b[1;33m)\u001b[0m\u001b[1;33m*\u001b[0m\u001b[0mself\u001b[0m\u001b[1;33m.\u001b[0m\u001b[0mm\u001b[0m\u001b[1;33m[\u001b[0m\u001b[0mi\u001b[0m\u001b[1;33m]\u001b[0m\u001b[1;33m\u001b[0m\u001b[1;33m\u001b[0m\u001b[0m\n\u001b[0m\u001b[0;32m     72\u001b[0m         \u001b[0mself\u001b[0m\u001b[1;33m.\u001b[0m\u001b[0mf\u001b[0m \u001b[1;33m=\u001b[0m \u001b[0mf\u001b[0m\u001b[1;33m\u001b[0m\u001b[1;33m\u001b[0m\u001b[0m\n\u001b[0;32m     73\u001b[0m         \u001b[1;32mreturn\u001b[0m \u001b[0mself\u001b[0m\u001b[1;33m.\u001b[0m\u001b[0mf\u001b[0m\u001b[1;33m\u001b[0m\u001b[1;33m\u001b[0m\u001b[0m\n",
      "\u001b[1;31mIndexError\u001b[0m: index 100 is out of bounds for axis 0 with size 100"
     ]
    }
   ],
   "source": [
    "parts=nbody(2, 100, 0.1)\n",
    "plt.ion()\n",
    "nstep=200\n",
    "kk=np.zeros(nstep)\n",
    "pp=np.zeros(nstep)\n",
    "for i in range(nstep):\n",
    "    plt.clf()\n",
    "    plt.plot(parts.x[:,0],parts.x[:,1],'.')\n",
    "    plt.xlim(0,1)\n",
    "    plt.ylim(0,1)\n",
    "    plt.pause(0.001)\n",
    "    parts.leapfrog(0.1)\n",
    "    kk[i],pp[i]=parts.leapfrog(1e-4)"
   ]
  },
  {
   "cell_type": "code",
   "execution_count": null,
   "id": "e047486c",
   "metadata": {},
   "outputs": [],
   "source": []
  },
  {
   "cell_type": "code",
   "execution_count": null,
   "id": "10070257",
   "metadata": {},
   "outputs": [],
   "source": []
  },
  {
   "cell_type": "code",
   "execution_count": null,
   "id": "cfbeeff1",
   "metadata": {},
   "outputs": [],
   "source": []
  },
  {
   "cell_type": "code",
   "execution_count": null,
   "id": "331a084d",
   "metadata": {},
   "outputs": [],
   "source": []
  },
  {
   "cell_type": "code",
   "execution_count": null,
   "id": "927685ef",
   "metadata": {},
   "outputs": [],
   "source": []
  },
  {
   "cell_type": "code",
   "execution_count": 60,
   "id": "85346a36",
   "metadata": {},
   "outputs": [
    {
     "data": {
      "text/plain": [
       "[<matplotlib.lines.Line2D at 0x1db3e496af0>]"
      ]
     },
     "execution_count": 60,
     "metadata": {},
     "output_type": "execute_result"
    },
    {
     "data": {
      "image/png": "[encoded data removed]",
      "text/plain": [
       "<Figure size 432x288 with 1 Axes>"
      ]
     },
     "metadata": {
      "needs_background": "light"
     },
     "output_type": "display_data"
    }
   ],
   "source": [
    "n=50000\n",
    "\n",
    "data = np.random.randn(n,2)\n",
    "plt.plot(data[:,0],data[:,1],'o')"
   ]
  },
  {
   "cell_type": "code",
   "execution_count": 73,
   "id": "eb15d97a",
   "metadata": {},
   "outputs": [
    {
     "data": {
      "text/plain": [
       "<matplotlib.image.AxesImage at 0x1db42551af0>"
      ]
     },
     "execution_count": 73,
     "metadata": {},
     "output_type": "execute_result"
    },
    {
     "data": {
      "image/png": "[encoded data removed]",
      "text/plain": [
       "<Figure size 432x288 with 1 Axes>"
      ]
     },
     "metadata": {
      "needs_background": "light"
     },
     "output_type": "display_data"
    }
   ],
   "source": [
    "g=50\n",
    "hist = np.histogram2d(data[:,0], data[:,1], bins=g)\n",
    "\n",
    "plt.imshow(hist[0])"
   ]
  },
  {
   "cell_type": "code",
   "execution_count": 90,
   "id": "916133f2",
   "metadata": {},
   "outputs": [],
   "source": [
    "grad = np.gradient(hist[0])\n",
    "\n",
    "np.shape(grad[0])\n",
    "\n",
    "grax, gray = np.gradient(hist[0])"
   ]
  },
  {
   "cell_type": "code",
   "execution_count": 93,
   "id": "ceec6389",
   "metadata": {},
   "outputs": [
    {
     "data": {
      "text/plain": [
       "<matplotlib.image.AxesImage at 0x1db43b072e0>"
      ]
     },
     "execution_count": 93,
     "metadata": {},
     "output_type": "execute_result"
    },
    {
     "data": {
      "image/png": "[encoded data removed]",
      "text/plain": [
       "<Figure size 432x288 with 2 Axes>"
      ]
     },
     "metadata": {
      "needs_background": "light"
     },
     "output_type": "display_data"
    }
   ],
   "source": [
    "plt.subplot(1,2,1)\n",
    "plt.imshow(grad[1])\n",
    "plt.subplot(1,2,2)\n",
    "plt.imshow(gray)"
   ]
  },
  {
   "cell_type": "code",
   "execution_count": 35,
   "id": "3804e433",
   "metadata": {
    "scrolled": true
   },
   "outputs": [
    {
     "name": "stdout",
     "output_type": "stream",
     "text": [
      "0 [0 4] \n",
      "\n",
      "1 [7 2] \n",
      "\n",
      "2 [4 6] \n",
      "\n",
      "3 [3 5] \n",
      "\n",
      "4 [2 6] \n",
      "\n",
      "5 [9 4] \n",
      "\n",
      "6\n"
     ]
    }
   ],
   "source": [
    "data = np.array([[0,4],[7,2],[4,6],[3,5],[2,6],[9,4]])\n",
    "\n",
    "for i, xy in enumerate(data):\n",
    "    print(i, xy,'\\n')\n",
    "print(len(data))"
   ]
  },
  {
   "cell_type": "code",
   "execution_count": 37,
   "id": "78291ee7",
   "metadata": {},
   "outputs": [
    {
     "name": "stdout",
     "output_type": "stream",
     "text": [
      "292\n"
     ]
    }
   ],
   "source": [
    "print(np.sum(data**2))"
   ]
  },
  {
   "cell_type": "code",
   "execution_count": 102,
   "id": "e84a61a4",
   "metadata": {},
   "outputs": [],
   "source": [
    "p = 10\n",
    "points = np.random.rand(p,2)"
   ]
  },
  {
   "cell_type": "code",
   "execution_count": 105,
   "id": "1c87cc74",
   "metadata": {},
   "outputs": [
    {
     "data": {
      "text/plain": [
       "[<matplotlib.lines.Line2D at 0x1db43e77d90>]"
      ]
     },
     "execution_count": 105,
     "metadata": {},
     "output_type": "execute_result"
    },
    {
     "data": {
      "image/png": "[encoded data removed]",
      "text/plain": [
       "<Figure size 432x288 with 1 Axes>"
      ]
     },
     "metadata": {
      "needs_background": "light"
     },
     "output_type": "display_data"
    }
   ],
   "source": [
    "g = 10\n",
    "\n",
    "for i in range(g):\n",
    "    plt.axvline((i+1)/10, color='black')\n",
    "    plt.axhline((i+1)/10, color='black')\n",
    "plt.plot(points[:,0], points[:,1], 'o')"
   ]
  },
  {
   "cell_type": "code",
   "execution_count": 108,
   "id": "c1c3ae7a",
   "metadata": {},
   "outputs": [
    {
     "name": "stdout",
     "output_type": "stream",
     "text": [
      "[9. 8.]        [0.93150082 0.83876136]\n",
      "[6. 6.]        [0.69215627 0.62717544]\n",
      "[8. 3.]        [0.86084476 0.33651995]\n",
      "[2. 6.]        [0.20023362 0.60734144]\n",
      "[5. 8.]        [0.50187963 0.85732206]\n",
      "[3. 2.]        [0.37746221 0.20636586]\n",
      "[1. 4.]        [0.1331489  0.49146143]\n",
      "[7. 0.]        [0.7044978  0.06697456]\n",
      "[6. 6.]        [0.66745666 0.6785421 ]\n",
      "[0. 1.]        [0.06437207 0.142892  ]\n"
     ]
    }
   ],
   "source": [
    "dx = 1/g\n",
    "\n",
    "for i in range(len(points)):\n",
    "    print(points[i]//dx, '      ', points[i])"
   ]
  },
  {
   "cell_type": "code",
   "execution_count": 21,
   "id": "5dcc8207",
   "metadata": {},
   "outputs": [
    {
     "name": "stdout",
     "output_type": "stream",
     "text": [
      "[[1. 1. 1. 1.]\n",
      " [1. 1. 1. 1.]\n",
      " [1. 1. 1. 1.]\n",
      " [1. 1. 1. 1.]]\n"
     ]
    }
   ],
   "source": [
    "arr = np.ones([4,2])\n",
    "dummy = np.ones([4,4])\n",
    "\n",
    "for i in range(3):\n",
    "    arr[i] = np.array([i,i*2])*4\n",
    "print(dummy)"
   ]
  },
  {
   "cell_type": "code",
   "execution_count": 23,
   "id": "64122eb3",
   "metadata": {},
   "outputs": [],
   "source": [
    "d = np.pad(dummy,(0,dummy.shape[0]))"
   ]
  },
  {
   "cell_type": "code",
   "execution_count": null,
   "id": "0ecc4666",
   "metadata": {},
   "outputs": [],
   "source": []
  },
  {
   "cell_type": "code",
   "execution_count": null,
   "id": "3e6d5f67",
   "metadata": {},
   "outputs": [],
   "source": []
  },
  {
   "cell_type": "code",
   "execution_count": null,
   "id": "7e50c30f",
   "metadata": {},
   "outputs": [],
   "source": []
  },
  {
   "cell_type": "code",
   "execution_count": null,
   "id": "01461cfb",
   "metadata": {},
   "outputs": [],
   "source": []
  },
  {
   "cell_type": "code",
   "execution_count": null,
   "id": "f792ad78",
   "metadata": {},
   "outputs": [],
   "source": []
  },
  {
   "cell_type": "code",
   "execution_count": null,
   "id": "4f5b12d9",
   "metadata": {},
   "outputs": [],
   "source": [
    "#####TO SAVE FOR LATER IN CASE??\n",
    "import numpy as np \n",
    "import matplotlib.pyplot as plt\n",
    "import os\n",
    "import imageio\n",
    "from tqdm.notebook import tqdm\n",
    "import time\n",
    "plt.ion()\n",
    "%matplotlib notebook\n",
    "def get_kernel(n,r0):\n",
    "    x=np.fft.fftfreq(n)*n\n",
    "    rsqr=np.outer(np.ones(n),x**2)\n",
    "    rsqr=rsqr+rsqr.T\n",
    "    rsqr[rsqr<r0**2]=r0**2\n",
    "    kernel=rsqr**-0.5\n",
    "    return kernel\n",
    "\n",
    "\n",
    "class Particles:\n",
    "    def __init__(self,npart = 40000,n = 100,ndim = 2,periodic = True,soft = 1):\n",
    "        self.npart = npart\n",
    "        self.x = np.empty([npart,ndim])\n",
    "        self.v = np.empty([npart,ndim])\n",
    "        self.grad = np.empty([npart,ndim])\n",
    "        self.f = np.empty([npart,ndim])\n",
    "        self.ngrid=n\n",
    "        self.masses = np.ones(self.npart)\n",
    "        self.soft = soft\n",
    "        self.periodic = periodic\n",
    "        self.kernel = None\n",
    "        self.kernelft = None\n",
    "        self.init_xbounds = None\n",
    "        self.init_ybounds = None\n",
    "        self.timer = False\n",
    "        self.time_pot = []\n",
    "        self.time_forces = []\n",
    "        self.time_plot = []\n",
    "        \n",
    "        if periodic:\n",
    "            self.rho=np.empty([self.ngrid,self.ngrid])\n",
    "            self.pot=np.empty([self.ngrid,self.ngrid])\n",
    "        else:\n",
    "            self.rho=np.empty([2*self.ngrid,2*self.ngrid])\n",
    "            self.pot=np.empty([2*self.ngrid,2*self.ngrid])\n",
    "    def get_rho(self):\n",
    "        if self.periodic:\n",
    "            self.rho=np.histogram2d(self.x[:,0],self.x[:,1],bins = self.ngrid,range = ([np.min(self.x[:,0])\n",
    "                                                                            ,np.max(self.x[:,0])],[np.min(self.x[:,1])\n",
    "                                                                            ,np.max(self.x[:,1])]),weights = self.masses)[0]\n",
    "        else:\n",
    "            self.rho[self.ngrid//2:3*self.ngrid//2,self.ngrid//2:3*self.ngrid//2] = np.histogram2d(self.x[:,0],self.x[:,1]\n",
    "                                                                            ,bins = self.ngrid,range = ([np.min(self.x[:,0])\n",
    "                                                                            ,np.max(self.x[:,0])],[np.min(self.x[:,1])\n",
    "                                                                            ,np.max(self.x[:,1])]),weights = self.masses)[0]\n",
    "    \n",
    "    def IC_Gauss(self,n_blobs = 1,center_loc = [[0,0]],stds=[1,1]):\n",
    "        if n_blobs!=len(center_loc) or n_blobs!=len(center_loc):\n",
    "            print('Need to specify center and std of each blob')\n",
    "            \n",
    "        to_remove = self.npart%n_blobs\n",
    "        self.npart-=to_remove\n",
    "        parts_per_blob = self.npart//n_blobs\n",
    "        \n",
    "        for i in range(n_blobs):\n",
    "            self.x[i*parts_per_blob:(i+1)*parts_per_blob] = np.random.normal(center_loc[i],stds[i],np.shape(self.x[:parts_per_blob]))\n",
    "        \n",
    "        self.init_xbounds = [np.min(self.x[:,0]),np.max(self.x[:,0])]\n",
    "        self.init_ybounds = [np.min(self.x[:,1]),np.max(self.x[:,1])]\n",
    "        \n",
    "    def get_kernel(self):\n",
    "        if self.periodic:\n",
    "            self.kernel=get_kernel(self.ngrid,self.soft)\n",
    "        else:\n",
    "            self.kernel=get_kernel(2*self.ngrid,self.soft)\n",
    "        self.kernelft=np.fft.rfft2(self.kernel)\n",
    "        \n",
    "    def get_potential(self):\n",
    "        if self.timer:\n",
    "            t1 = time.time()\n",
    "        self.get_rho()\n",
    "        self.get_kernel()\n",
    "        rhoft = np.fft.rfft2(self.rho)\n",
    "        conv = np.fft.irfft2(self.kernelft*rhoft)\n",
    "        self.pot = conv\n",
    "        t2 = time.time()\n",
    "        if self.timer:\n",
    "            t2 = time.time()\n",
    "            self.time_pot.append(t2-t1)\n",
    "        \n",
    "    def get_forces(self):\n",
    "        if self.timer:\n",
    "            t1 = time.time()\n",
    "        gradx = 0.5*(np.roll(self.pot,1,0)-np.roll(self.pot,-1,0))\n",
    "        grady = 0.5*(np.roll(self.pot,1,1)-np.roll(self.pot,-1,1))\n",
    "        for i, xy in enumerate(self.x):\n",
    "            xgrid = int(self.ngrid*(xy[0]-np.min(self.x[:,0]))/np.ptp(self.x[:,0]))\n",
    "            if xgrid == self.ngrid:\n",
    "                xgrid-=1\n",
    "            ygrid = int(self.ngrid*(xy[1]-np.min(self.x[:,1]))/np.ptp(self.x[:,1]))\n",
    "            if ygrid == self.ngrid:\n",
    "                ygrid-=1\n",
    "            self.f[i] = [-gradx[xgrid,ygrid],-grady[xgrid,ygrid]]\n",
    "        if self.timer:\n",
    "            t2 = time.time()\n",
    "            self.time_forces.append(t2-t1)\n",
    "            \n",
    "    def take_step(self,dt=1):\n",
    "        self.x[:]=self.x[:]+dt*self.v\n",
    "        self.get_potential()\n",
    "        self.get_forces()\n",
    "        self.v[:]=self.v[:]+self.f*dt\n",
    "    \n",
    "    def plot_particles(self,density=False,savepath = ''):\n",
    "        if self.timer:\n",
    "            t1 = time.time()\n",
    "        if density:\n",
    "            plt.figure()\n",
    "            plt.imshow(np.rot90(self.rho),cmap = 'plasma')\n",
    "        else:\n",
    "            plt.figure()\n",
    "            plt.plot(self.x[:,0],self.x[:,1],'.')\n",
    "        if savepath !='':\n",
    "            plt.savefig(savepath)\n",
    "        if self.timer:\n",
    "            t2 = time.time()\n",
    "            self.time_plot.append(t2-t1)\n",
    "            \n",
    "    def timing_report(self):\n",
    "        avg_pot_time = np.mean(self.time_pot)\n",
    "        avg_f_time = np.mean(self.time_forces)\n",
    "        avg_plot_time = np.mean(self.time_plot)\n",
    "        \n",
    "        print('With {} particles and grid sidelength {}\\n'.format(self.npart,self.ngrid))\n",
    "        print('Average time to compute potential: {} s'.format(round(avg_pot_time,5)))\n",
    "        print('Average time to compute forces: {} s'.format(round(avg_f_time,5)))\n",
    "        print('Average time to plot: {} s'.format(round(avg_plot_time,5)))\n",
    "\n",
    "particles = Particles(npart = 2,n=100)\n",
    "        \n",
    "particles.timer = True\n",
    "# particles.IC_Gauss(5,np.random.randint(-5,5,size = (5,2)),[0.5,]*5)\n",
    "particles.IC_Gauss()\n",
    "# particles.x = np.random.uniform([-1,-1],[1,1],size = np.shape(particles.x))\n",
    "# particles.IC_box(bounds = [[-2,2],[-2,2]])\n",
    "# particles.x[len(particles.x)//2:] = np.random.normal([5,5],0.01,size = np.shape(particles.x[len(particles.x)//2:]))\n",
    "particles.v = np.zeros(np.shape(particles.v))\n",
    "particles.plot_particles()\n",
    "particles.get_rho()\n",
    "particles.plot_particles(density=True)\n",
    "plt.figure()\n",
    "particles.get_potential()\n",
    "plt.imshow(np.rot90(particles.pot),cmap = 'plasma')\n",
    "\n",
    "def make_animation(particles,niter,dt = 0.08):\n",
    "    plt.clf()\n",
    "    plt.ioff()\n",
    "    path = 'Figures/Animation_{}_particles_{}_iter/'.format(particles.npart,niter)\n",
    "    try:\n",
    "        os.mkdir(path)\n",
    "    except:\n",
    "        None\n",
    "        \n",
    "    particles.plot_particles(density = True,savepath =path+'%04d'%0 )\n",
    "    \n",
    "    for i in tqdm(range(niter)):\n",
    "        particles.take_step(dt = dt)\n",
    "        particles.plot_particles(density = True,savepath = path+'%04d'%i)\n",
    "        plt.close()\n",
    "    images = []\n",
    "    filenames = os.listdir(path)\n",
    "    for filename in filenames:\n",
    "        images.append(imageio.imread(path+filename))\n",
    "    imageio.mimsave(path+'{}_particles_{}_iter.gif'.format(particles.npart,niter), images)\n",
    "    plt.ion()\n",
    "    \n",
    "make_animation(particles,100,dt = 0.08)\n",
    "HBox(children=(FloatProgress(value=0.0), HTML(value='')))\n",
    "particles.timing_report()"
   ]
  }
 ],
 "metadata": {
  "kernelspec": {
   "display_name": "Python 3 (ipykernel)",
   "language": "python",
   "name": "python3"
  },
  "language_info": {
   "codemirror_mode": {
    "name": "ipython",
    "version": 3
   },
   "file_extension": ".py",
   "mimetype": "text/x-python",
   "name": "python",
   "nbconvert_exporter": "python",
   "pygments_lexer": "ipython3",
   "version": "3.9.7"
  }
 },
 "nbformat": 4,
 "nbformat_minor": 5
}
